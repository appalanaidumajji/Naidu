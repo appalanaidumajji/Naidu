{
 "cells": [
  {
   "cell_type": "code",
   "execution_count": 1,
   "id": "e2706ff5",
   "metadata": {},
   "outputs": [
    {
     "name": "stdout",
     "output_type": "stream",
     "text": [
      "naidu\n"
     ]
    }
   ],
   "source": [
    "print(\"naidu\")"
   ]
  },
  {
   "cell_type": "markdown",
   "id": "fa2b3153",
   "metadata": {},
   "source": [
    "###Data Type"
   ]
  },
  {
   "cell_type": "markdown",
   "id": "84faefef",
   "metadata": {},
   "source": [
    "## Data type"
   ]
  },
  {
   "cell_type": "markdown",
   "id": "f07febf0",
   "metadata": {},
   "source": [
    "#Data Type"
   ]
  },
  {
   "cell_type": "markdown",
   "id": "9386d331",
   "metadata": {},
   "source": [
    "####Data type"
   ]
  },
  {
   "cell_type": "markdown",
   "id": "54d2d270",
   "metadata": {},
   "source": [
    "###Data types"
   ]
  },
  {
   "cell_type": "markdown",
   "id": "00da6c98",
   "metadata": {},
   "source": [
    "###Data types"
   ]
  },
  {
   "cell_type": "markdown",
   "id": "d77c7159",
   "metadata": {},
   "source": [
    "### Data type"
   ]
  },
  {
   "cell_type": "markdown",
   "id": "2f6df349",
   "metadata": {},
   "source": [
    "##Data type"
   ]
  },
  {
   "cell_type": "markdown",
   "id": "578dc134",
   "metadata": {},
   "source": [
    "### Data type"
   ]
  },
  {
   "cell_type": "markdown",
   "id": "26c91ea6",
   "metadata": {},
   "source": [
    "##date type"
   ]
  },
  {
   "cell_type": "code",
   "execution_count": 2,
   "id": "83e1d3e2",
   "metadata": {},
   "outputs": [
    {
     "name": "stdout",
     "output_type": "stream",
     "text": [
      "['raju', 'rani', 'naidu']\n",
      "<class 'list'>\n"
     ]
    }
   ],
   "source": [
    "name=[\"raju\",\"rani\",\"naidu\"]\n",
    "print(name)\n",
    "print(type(name))"
   ]
  },
  {
   "cell_type": "code",
   "execution_count": 3,
   "id": "3e75f6c7",
   "metadata": {},
   "outputs": [
    {
     "name": "stdout",
     "output_type": "stream",
     "text": [
      "['raju', 'chaithu', 'naidu']\n"
     ]
    }
   ],
   "source": [
    "name[1]=\"chaithu\"\n",
    "print(name)"
   ]
  },
  {
   "cell_type": "code",
   "execution_count": 4,
   "id": "9d372965",
   "metadata": {},
   "outputs": [
    {
     "name": "stdout",
     "output_type": "stream",
     "text": [
      "['raju', 'chaithu', 100]\n"
     ]
    }
   ],
   "source": [
    "name[2]=100\n",
    "print(name)"
   ]
  },
  {
   "cell_type": "code",
   "execution_count": 5,
   "id": "68720743",
   "metadata": {},
   "outputs": [
    {
     "name": "stdout",
     "output_type": "stream",
     "text": [
      "['raju', 'chaithu', 100, 100]\n"
     ]
    }
   ],
   "source": [
    "name.append(100)\n",
    "print(name)"
   ]
  },
  {
   "cell_type": "code",
   "execution_count": 6,
   "id": "6b16b933",
   "metadata": {},
   "outputs": [
    {
     "name": "stdout",
     "output_type": "stream",
     "text": [
      "['raju', 'chaithu', 'Sanju', 100, 100]\n"
     ]
    }
   ],
   "source": [
    "name.insert(2,\"Sanju\")\n",
    "print(name)"
   ]
  },
  {
   "cell_type": "code",
   "execution_count": 8,
   "id": "9fc887f4",
   "metadata": {},
   "outputs": [
    {
     "name": "stdout",
     "output_type": "stream",
     "text": [
      "['raju', 'Sanju', 100, 100]\n"
     ]
    }
   ],
   "source": [
    "name.remove(\"chaithu\")\n",
    "print(name)"
   ]
  },
  {
   "cell_type": "code",
   "execution_count": 9,
   "id": "7f92d35f",
   "metadata": {},
   "outputs": [
    {
     "name": "stdout",
     "output_type": "stream",
     "text": [
      "['raju', 'Sanju', 100]\n"
     ]
    }
   ],
   "source": [
    "name.pop(2)\n",
    "print(name)"
   ]
  },
  {
   "cell_type": "code",
   "execution_count": 10,
   "id": "2885a100",
   "metadata": {},
   "outputs": [],
   "source": [
    "Name=[100,200]"
   ]
  },
  {
   "cell_type": "code",
   "execution_count": 11,
   "id": "890ab743",
   "metadata": {},
   "outputs": [
    {
     "name": "stdout",
     "output_type": "stream",
     "text": [
      "['raju', 'Sanju', 100, 100, 200]\n"
     ]
    }
   ],
   "source": [
    "name.extend(Name)\n",
    "print(name)"
   ]
  },
  {
   "cell_type": "code",
   "execution_count": 13,
   "id": "6b31725d",
   "metadata": {},
   "outputs": [
    {
     "ename": "TypeError",
     "evalue": "'<' not supported between instances of 'int' and 'str'",
     "output_type": "error",
     "traceback": [
      "\u001b[1;31m---------------------------------------------------------------------------\u001b[0m",
      "\u001b[1;31mTypeError\u001b[0m                                 Traceback (most recent call last)",
      "Cell \u001b[1;32mIn[13], line 1\u001b[0m\n\u001b[1;32m----> 1\u001b[0m name\u001b[38;5;241m.\u001b[39msort()\n\u001b[0;32m      2\u001b[0m \u001b[38;5;28mprint\u001b[39m(name)\n",
      "\u001b[1;31mTypeError\u001b[0m: '<' not supported between instances of 'int' and 'str'"
     ]
    }
   ],
   "source": [
    "name.sort()\n",
    "print(name)"
   ]
  },
  {
   "cell_type": "code",
   "execution_count": 14,
   "id": "39df9943",
   "metadata": {},
   "outputs": [
    {
     "data": {
      "text/plain": [
       "['raju', 'Sanju', 100, 100, 200]"
      ]
     },
     "execution_count": 14,
     "metadata": {},
     "output_type": "execute_result"
    }
   ],
   "source": [
    "name"
   ]
  },
  {
   "cell_type": "code",
   "execution_count": 15,
   "id": "07ace705",
   "metadata": {},
   "outputs": [
    {
     "ename": "TypeError",
     "evalue": "'<' not supported between instances of 'int' and 'str'",
     "output_type": "error",
     "traceback": [
      "\u001b[1;31m---------------------------------------------------------------------------\u001b[0m",
      "\u001b[1;31mTypeError\u001b[0m                                 Traceback (most recent call last)",
      "Cell \u001b[1;32mIn[15], line 1\u001b[0m\n\u001b[1;32m----> 1\u001b[0m name\u001b[38;5;241m.\u001b[39msort()\n\u001b[0;32m      2\u001b[0m \u001b[38;5;28mprint\u001b[39m(name)\n",
      "\u001b[1;31mTypeError\u001b[0m: '<' not supported between instances of 'int' and 'str'"
     ]
    }
   ],
   "source": [
    "name.sort()\n",
    "print(name)"
   ]
  },
  {
   "cell_type": "code",
   "execution_count": 16,
   "id": "bf501b2f",
   "metadata": {},
   "outputs": [
    {
     "data": {
      "text/plain": [
       "[100, 200]"
      ]
     },
     "execution_count": 16,
     "metadata": {},
     "output_type": "execute_result"
    }
   ],
   "source": [
    "Name"
   ]
  },
  {
   "cell_type": "code",
   "execution_count": 17,
   "id": "364eb391",
   "metadata": {},
   "outputs": [
    {
     "name": "stdout",
     "output_type": "stream",
     "text": [
      "[100, 200, 50]\n"
     ]
    }
   ],
   "source": [
    "Name.append(50)\n",
    "print(Name)"
   ]
  },
  {
   "cell_type": "code",
   "execution_count": 18,
   "id": "925c2ecf",
   "metadata": {},
   "outputs": [
    {
     "name": "stdout",
     "output_type": "stream",
     "text": [
      "[50, 100, 200]\n"
     ]
    }
   ],
   "source": [
    "Name.sort()\n",
    "print(Name)"
   ]
  },
  {
   "cell_type": "code",
   "execution_count": 19,
   "id": "83cc9eb4",
   "metadata": {},
   "outputs": [
    {
     "name": "stdout",
     "output_type": "stream",
     "text": [
      "[200, 100, 50]\n"
     ]
    }
   ],
   "source": [
    "Name.sort(reverse=True)\n",
    "print(Name)"
   ]
  },
  {
   "cell_type": "code",
   "execution_count": null,
   "id": "2772e5d3",
   "metadata": {},
   "outputs": [],
   "source": []
  }
 ],
 "metadata": {
  "kernelspec": {
   "display_name": "Python 3 (ipykernel)",
   "language": "python",
   "name": "python3"
  },
  "language_info": {
   "codemirror_mode": {
    "name": "ipython",
    "version": 3
   },
   "file_extension": ".py",
   "mimetype": "text/x-python",
   "name": "python",
   "nbconvert_exporter": "python",
   "pygments_lexer": "ipython3",
   "version": "3.11.5"
  }
 },
 "nbformat": 4,
 "nbformat_minor": 5
}
